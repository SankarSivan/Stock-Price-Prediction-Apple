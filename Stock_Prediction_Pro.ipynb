{
  "nbformat": 4,
  "nbformat_minor": 0,
  "metadata": {
    "colab": {
      "private_outputs": true,
      "provenance": [],
      "gpuType": "T4",
      "cell_execution_strategy": "setup"
    },
    "kernelspec": {
      "name": "python3",
      "display_name": "Python 3"
    },
    "language_info": {
      "name": "python"
    },
    "accelerator": "GPU"
  },
  "cells": [
    {
      "cell_type": "markdown",
      "source": [
        "# MODEL\n"
      ],
      "metadata": {
        "id": "LtABZB0a96Bs"
      }
    },
    {
      "cell_type": "code",
      "source": [
        "# Step 1: Import Libraries\n",
        "import pandas as pd\n",
        "import numpy as np\n",
        "import matplotlib.pyplot as plt\n",
        "import tensorflow as tf\n",
        "from sklearn.preprocessing import MinMaxScaler\n",
        "from sklearn.metrics import mean_squared_error, mean_absolute_error\n",
        "from tensorflow.keras.models import Sequential\n",
        "from tensorflow.keras.layers import SimpleRNN, LSTM, Dense, Dropout\n",
        "from tensorflow.keras.callbacks import EarlyStopping\n",
        "from itertools import product\n",
        "import warnings\n",
        "warnings.filterwarnings(\"ignore\")"
      ],
      "metadata": {
        "id": "rPHNrXFZqydS"
      },
      "execution_count": null,
      "outputs": []
    },
    {
      "cell_type": "code",
      "source": [
        "# import data from github\n",
        "url = 'https://raw.githubusercontent.com/SankarSivan/Stock-Price-Prediction-Apple/main/AAPL.csv'\n",
        "df = pd.read_csv(url)"
      ],
      "metadata": {
        "id": "sSOaIIkv8odi"
      },
      "execution_count": null,
      "outputs": []
    },
    {
      "cell_type": "code",
      "source": [
        "# Step 2: Load & Clean Data\n",
        "url = 'https://raw.githubusercontent.com/SankarSivan/Stock-Price-Prediction-Apple/main/AAPL.csv'\n",
        "df = pd.read_csv(url, parse_dates=[\"Date\"], index_col=\"Date\")\n",
        "df = df[['Adj Close']].rename(columns={\"Adj Close\": \"adj_close\"})\n",
        "df.fillna(method=\"ffill\", inplace=True)\n",
        "df.head()"
      ],
      "metadata": {
        "id": "0HcKSpyVq88e"
      },
      "execution_count": null,
      "outputs": []
    },
    {
      "cell_type": "code",
      "source": [
        "# Step 3: Create Sequences for Time Series Forecasting\n",
        "SEQ_LEN = 60\n",
        "def create_sequences(data, gap=1):\n",
        "    X, y = [], []\n",
        "    for i in range(len(data) - SEQ_LEN - gap + 1):\n",
        "        X.append(data[i:i+SEQ_LEN])\n",
        "        y.append(data[i+SEQ_LEN+gap-1])\n",
        "    return np.array(X), np.array(y)\n",
        "\n",
        "scaler = MinMaxScaler()\n",
        "scaled = scaler.fit_transform(df)\n",
        "\n",
        "X, y = create_sequences(scaled, gap=1)\n",
        "X = X.reshape((X.shape[0], X.shape[1], 1))  # (samples, timesteps, features)\n",
        "\n",
        "split = int(0.8 * len(X))\n",
        "X_train, X_val = X[:split], X[split:]\n",
        "y_train, y_val = y[:split], y[split:]"
      ],
      "metadata": {
        "id": "GhoFw-c8reUo"
      },
      "execution_count": null,
      "outputs": []
    },
    {
      "cell_type": "code",
      "source": [
        "# Step 4: Train SimpleRNN\n",
        "def build_rnn():\n",
        "    model = Sequential([\n",
        "        SimpleRNN(50, input_shape=(SEQ_LEN, 1)),\n",
        "        Dense(1)\n",
        "    ])\n",
        "    model.compile(optimizer='adam', loss='mse')\n",
        "    return model\n",
        "\n",
        "rnn_model = build_rnn()\n",
        "es = EarlyStopping(patience=5, restore_best_weights=True)\n",
        "rnn_model.fit(X_train, y_train, epochs=20, batch_size=64, validation_data=(X_val, y_val), callbacks=[es])\n"
      ],
      "metadata": {
        "id": "O3gstjP9rwxY"
      },
      "execution_count": null,
      "outputs": []
    },
    {
      "cell_type": "code",
      "source": [
        "rnn_model.summary()"
      ],
      "metadata": {
        "id": "Z7d3wX_xAYZc"
      },
      "execution_count": null,
      "outputs": []
    },
    {
      "cell_type": "code",
      "source": [
        "# Step 5: Train LSTM (basic version)\n",
        "def build_lstm(units=50, lr=0.001):\n",
        "    model = Sequential([\n",
        "        LSTM(units, input_shape=(SEQ_LEN, 1)),\n",
        "        Dropout(0.2),\n",
        "        Dense(1)\n",
        "    ])\n",
        "    model.compile(optimizer=tf.keras.optimizers.Adam(learning_rate=lr), loss='mse')\n",
        "    return model\n",
        "\n",
        "lstm_model = build_lstm()\n",
        "lstm_model.fit(X_train, y_train, epochs=20, batch_size=64, validation_data=(X_val, y_val), callbacks=[es])\n"
      ],
      "metadata": {
        "id": "sALC8YDKrA38"
      },
      "execution_count": null,
      "outputs": []
    },
    {
      "cell_type": "code",
      "source": [
        "lstm_model.summary()"
      ],
      "metadata": {
        "id": "_t76s7-M_3Zr"
      },
      "execution_count": null,
      "outputs": []
    },
    {
      "cell_type": "code",
      "source": [
        "# Step 6: Manual Hyperparameter Tuning for LSTM\n",
        "param_grid = {\n",
        "    \"units\": [32, 64],\n",
        "    \"lr\": [0.001, 0.005],\n",
        "    \"epochs\": [10, 20]\n",
        "}\n",
        "results = []\n",
        "best_rmse = float(\"inf\")\n",
        "best_model = None\n",
        "\n",
        "for units, lr, ep in product(*param_grid.values()):\n",
        "    print(f\"Training: units={units}, lr={lr}, epochs={ep}\")\n",
        "    model = build_lstm(units, lr)\n",
        "    model.fit(X_train, y_train, epochs=ep, batch_size=32, validation_data=(X_val, y_val), callbacks=[es], verbose=0)\n",
        "    pred = model.predict(X_val)\n",
        "    rmse = np.sqrt(mean_squared_error(y_val, pred))\n",
        "    results.append((units, lr, ep, rmse))\n",
        "\n",
        "    if rmse < best_rmse:\n",
        "        best_rmse = rmse\n",
        "        best_model = model\n",
        "        best_params = (units, lr, ep)\n",
        "\n",
        "print(\"Best:\", best_params, \"RMSE:\", best_rmse)\n",
        "best_model.save(\"lstm_manual.h5\")\n"
      ],
      "metadata": {
        "id": "PaWtBi25r19l"
      },
      "execution_count": null,
      "outputs": []
    },
    {
      "cell_type": "code",
      "source": [
        "# Step 7: Evaluate and Plot\n",
        "def inverse_scale(y_scaled):\n",
        "    y_pad = np.hstack([y_scaled, np.zeros((len(y_scaled), 1))])\n",
        "    return scaler.inverse_transform(y_pad)[:, 0]\n",
        "\n",
        "val_pred = best_model.predict(X_val)\n",
        "val_true_inv = inverse_scale(y_val.reshape(-1, 1))\n",
        "val_pred_inv = inverse_scale(val_pred)\n",
        "\n",
        "plt.figure(figsize=(12,5))\n",
        "plt.plot(val_true_inv, label=\"Actual Price\")\n",
        "plt.plot(val_pred_inv, label=\"Predicted Price\")\n",
        "plt.title(\"Prediction vs Actual\")\n",
        "plt.legend()\n",
        "plt.show()\n",
        "\n",
        "mae = mean_absolute_error(val_true_inv, val_pred_inv)\n",
        "rmse = np.sqrt(mean_squared_error(val_true_inv, val_pred_inv))\n",
        "print(f\"MAE: {mae:.2f} | RMSE: {rmse:.2f}\")\n"
      ],
      "metadata": {
        "id": "-yp-6KGfsClf"
      },
      "execution_count": null,
      "outputs": []
    },
    {
      "cell_type": "code",
      "source": [
        "# Step 7: Evaluate and Plot\n",
        "def inverse_scale(y_scaled):\n",
        "    y_pad = np.hstack([y_scaled, np.zeros((len(y_scaled), 1))])\n",
        "    return scaler.inverse_transform(y_pad)[:, 0]\n",
        "\n",
        "val_pred = best_model.predict(X_val)\n",
        "val_true_inv = inverse_scale(y_val.reshape(-1, 1))\n",
        "val_pred_inv = inverse_scale(val_pred)\n",
        "\n",
        "plt.figure(figsize=(12,5))\n",
        "plt.plot(val_true_inv, label=\"Actual Price\")\n",
        "plt.plot(val_pred_inv, label=\"Predicted Price\")\n",
        "plt.title(\"Prediction vs Actual\")\n",
        "plt.legend()\n",
        "plt.show()\n",
        "\n",
        "mae = mean_absolute_error(val_true_inv, val_pred_inv)\n",
        "rmse = np.sqrt(mean_squared_error(val_true_inv, val_pred_inv))\n",
        "print(f\"MAE: {mae:.2f} | RMSE: {rmse:.2f}\")"
      ],
      "metadata": {
        "id": "0gQPj5zAwTpd"
      },
      "execution_count": null,
      "outputs": []
    },
    {
      "cell_type": "code",
      "source": [
        "best_model.summary()"
      ],
      "metadata": {
        "id": "FOL1NPbP_qhe"
      },
      "execution_count": null,
      "outputs": []
    }
  ]
}